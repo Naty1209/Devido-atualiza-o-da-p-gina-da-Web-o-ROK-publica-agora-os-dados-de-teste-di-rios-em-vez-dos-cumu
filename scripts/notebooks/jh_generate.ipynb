{
 "cells": [
  {
   "cell_type": "markdown",
   "metadata": {},
   "source": [
    "# Johns Hopkins data"
   ]
  },
  {
   "cell_type": "markdown",
   "metadata": {},
   "source": [
    "## Dependencies"
   ]
  },
  {
   "cell_type": "code",
   "execution_count": 261,
   "metadata": {},
   "outputs": [],
   "source": [
    "import pandas as pd\n",
    "import os\n",
    "from datetime import datetime\n",
    "\n",
    "INPUT_PATH = 'input/jh/'\n",
    "OUTPUT_PATH = 'public/data/jh/'\n",
    "\n",
    "POPULATION_CSV_PATH = os.path.join(INPUT_PATH, 'population_thousands.csv')\n",
    "REGIONS_CSV_PATH = os.path.join(INPUT_PATH, 'regions.csv')\n",
    "CASES_CSV_PATH = os.path.join(INPUT_PATH, 'cases.csv')\n",
    "DEATHS_CSV_PATH = os.path.join(INPUT_PATH, 'deaths.csv')\n",
    "RECOVERED_CSV_PATH = os.path.join(INPUT_PATH, 'recovered.csv')\n",
    "\n",
    "INDEX_COLUMNS = ['Country/Region', 'Province/State']"
   ]
  },
  {
   "cell_type": "code",
   "execution_count": 263,
   "metadata": {},
   "outputs": [],
   "source": [
    "!mkdir -p $OUTPUT_PATH"
   ]
  },
  {
   "cell_type": "markdown",
   "metadata": {},
   "source": [
    "## Download"
   ]
  },
  {
   "cell_type": "markdown",
   "metadata": {},
   "source": [
    "Download time series data from [GitHub repository](https://github.com/CSSEGISandData/COVID-19/tree/master/csse_covid_19_data/csse_covid_19_time_series), which is updated daily."
   ]
  },
  {
   "cell_type": "code",
   "execution_count": 228,
   "metadata": {},
   "outputs": [
    {
     "name": "stdout",
     "output_type": "stream",
     "text": [
      "  % Total    % Received % Xferd  Average Speed   Time    Time     Time  Current\n",
      "                                 Dload  Upload   Total   Spent    Left  Speed\n",
      "100   210  100   210    0     0    995      0 --:--:-- --:--:-- --:--:--   995\n",
      "100 74283  100 74283    0     0   193k      0 --:--:-- --:--:-- --:--:--  193k\n",
      "  % Total    % Received % Xferd  Average Speed   Time    Time     Time  Current\n",
      "                                 Dload  Upload   Total   Spent    Left  Speed\n",
      "100   207  100   207    0     0   1182      0 --:--:-- --:--:-- --:--:--  1182\n",
      "100 68994  100 68994    0     0   196k      0 --:--:-- --:--:-- --:--:-- 2260k\n",
      "  % Total    % Received % Xferd  Average Speed   Time    Time     Time  Current\n",
      "                                 Dload  Upload   Total   Spent    Left  Speed\n",
      "100   210  100   210    0     0   1329      0 --:--:-- --:--:-- --:--:--  1329\n",
      "100 71320  100 71320    0     0   212k      0 --:--:-- --:--:-- --:--:--  212k\n"
     ]
    }
   ],
   "source": [
    "!curl -Lo $INPUT_PATH/cases.csv https://github.com/CSSEGISandData/COVID-19/raw/master/csse_covid_19_data/csse_covid_19_time_series/time_series_19-covid-Confirmed.csv\n",
    "!curl -Lo $INPUT_PATH/deaths.csv https://github.com/CSSEGISandData/COVID-19/raw/master/csse_covid_19_data/csse_covid_19_time_series/time_series_19-covid-Deaths.csv\n",
    "!curl -Lo $INPUT_PATH/recovered.csv https://github.com/CSSEGISandData/COVID-19/raw/master/csse_covid_19_data/csse_covid_19_time_series/time_series_19-covid-Recovered.csv"
   ]
  },
  {
   "cell_type": "markdown",
   "metadata": {},
   "source": [
    "## Standardize"
   ]
  },
  {
   "cell_type": "markdown",
   "metadata": {},
   "source": [
    "Load the regions with OWID name mappings"
   ]
  },
  {
   "cell_type": "code",
   "execution_count": 229,
   "metadata": {},
   "outputs": [],
   "source": [
    "df_regions = pd.read_csv(REGIONS_CSV_PATH, index_col=INDEX_COLUMNS)"
   ]
  },
  {
   "cell_type": "markdown",
   "metadata": {},
   "source": [
    "Load Country/Region/States from Johns Hopkins data and check that we have accounted for all"
   ]
  },
  {
   "cell_type": "code",
   "execution_count": 230,
   "metadata": {},
   "outputs": [],
   "source": [
    "df_current_regions = pd.concat([\n",
    "    pd.read_csv(path)[INDEX_COLUMNS]\n",
    "    for path in [\n",
    "        CASES_CSV_PATH,\n",
    "        DEATHS_CSV_PATH,\n",
    "        RECOVERIES_CSV_PATH\n",
    "    ]\n",
    "]) \\\n",
    ".drop_duplicates() \\\n",
    ".sort_values(by=INDEX_COLUMNS) \\\n",
    ".merge(\n",
    "    df_regions,\n",
    "    how='left',\n",
    "    on=INDEX_COLUMNS\n",
    ")"
   ]
  },
  {
   "cell_type": "code",
   "execution_count": 231,
   "metadata": {},
   "outputs": [],
   "source": [
    "if df_current_regions['OWID Country Name'].isnull().any():\n",
    "    print(\"Please add country mappings for: \")\n",
    "    print(df_current_regions[df_current_regions['OWID Country Name'].isnull()])\n",
    "    df_current_regions.to_csv('to_standardize.csv', index=False)\n",
    "    assert False"
   ]
  },
  {
   "cell_type": "markdown",
   "metadata": {},
   "source": [
    "Load Johns Hopkins data"
   ]
  },
  {
   "cell_type": "code",
   "execution_count": 232,
   "metadata": {},
   "outputs": [],
   "source": [
    "def melt(df, var_name):\n",
    "    return df.melt(\n",
    "        id_vars=df.columns[0], \n",
    "        value_vars=df.columns[1:], \n",
    "        var_name='date', \n",
    "        value_name=var_name\n",
    "    ).dropna()"
   ]
  },
  {
   "cell_type": "code",
   "execution_count": 233,
   "metadata": {},
   "outputs": [],
   "source": [
    "def us_to_iso_date(datestr):\n",
    "    return datetime.strptime(datestr, '%m/%d/%y').strftime('%Y-%m-%d')"
   ]
  },
  {
   "cell_type": "code",
   "execution_count": 251,
   "metadata": {},
   "outputs": [],
   "source": [
    "def transform_and_standardize(df, var_name):\n",
    "    df = df.drop(columns=['Lat', 'Long'])\n",
    "    df = df.merge(\n",
    "        df_regions,\n",
    "        how='left',\n",
    "        on=['Country/Region', 'Province/State']\n",
    "    ).rename(columns={'OWID Country Name': 'location'})\n",
    "    if df['location'].isnull().any():\n",
    "        print(\"missing mappings in %s for:\" % var_name)\n",
    "        print(df[df['location'].isnull()][['Country/Region', 'Province/State', 'location']])\n",
    "        assert False\n",
    "    df = df.groupby('location').sum().reset_index()\n",
    "    df = melt_csv(df, var_name)\n",
    "    df['date'] = df['date'].map(us_to_iso_date)\n",
    "    return df.sort_values(by=['location', 'date'])"
   ]
  },
  {
   "cell_type": "code",
   "execution_count": 252,
   "metadata": {},
   "outputs": [],
   "source": [
    "df_cases = transform_and_standardize(pd.read_csv(CASES_CSV_PATH), 'total_cases')\n",
    "df_deaths = transform_and_standardize(pd.read_csv(DEATHS_CSV_PATH), 'total_deaths')\n",
    "df_recovered = transform_and_standardize(pd.read_csv(RECOVERED_CSV_PATH), 'total_recovered')"
   ]
  },
  {
   "cell_type": "code",
   "execution_count": 253,
   "metadata": {},
   "outputs": [],
   "source": [
    "df_merged = df_cases \\\n",
    "    .merge(\n",
    "        df_deaths,\n",
    "        how='outer',\n",
    "        on=['date', 'location']\n",
    "    ) \\\n",
    "    .merge (\n",
    "        df_recovered,\n",
    "        how='outer',\n",
    "        on=['date', 'location']\n",
    "    )"
   ]
  },
  {
   "cell_type": "code",
   "execution_count": 254,
   "metadata": {},
   "outputs": [],
   "source": [
    "df_global = df_merged.groupby('date').sum().reset_index()\n",
    "df_global['location'] = 'World'"
   ]
  },
  {
   "cell_type": "code",
   "execution_count": 255,
   "metadata": {},
   "outputs": [],
   "source": [
    "df_merged = pd.concat([df_merged, df_global], sort=True, ignore_index=True)"
   ]
  },
  {
   "cell_type": "code",
   "execution_count": 258,
   "metadata": {},
   "outputs": [],
   "source": [
    "for col in ['cases', 'deaths', 'recovered']:\n",
    "    df_merged['new_%s' % col] = df_merged.groupby('location')['total_%s' % col].diff().astype('Int64')"
   ]
  },
  {
   "cell_type": "code",
   "execution_count": 259,
   "metadata": {},
   "outputs": [
    {
     "data": {
      "text/html": [
       "<div>\n",
       "<style scoped>\n",
       "    .dataframe tbody tr th:only-of-type {\n",
       "        vertical-align: middle;\n",
       "    }\n",
       "\n",
       "    .dataframe tbody tr th {\n",
       "        vertical-align: top;\n",
       "    }\n",
       "\n",
       "    .dataframe thead th {\n",
       "        text-align: right;\n",
       "    }\n",
       "</style>\n",
       "<table border=\"1\" class=\"dataframe\">\n",
       "  <thead>\n",
       "    <tr style=\"text-align: right;\">\n",
       "      <th></th>\n",
       "      <th>date</th>\n",
       "      <th>location</th>\n",
       "      <th>total_cases</th>\n",
       "      <th>total_deaths</th>\n",
       "      <th>total_recovered</th>\n",
       "      <th>new_cases</th>\n",
       "      <th>new_deaths</th>\n",
       "      <th>new_recovered</th>\n",
       "    </tr>\n",
       "  </thead>\n",
       "  <tbody>\n",
       "    <tr>\n",
       "      <th>0</th>\n",
       "      <td>2020-01-22</td>\n",
       "      <td>Afghanistan</td>\n",
       "      <td>0</td>\n",
       "      <td>0</td>\n",
       "      <td>0</td>\n",
       "      <td>&lt;NA&gt;</td>\n",
       "      <td>&lt;NA&gt;</td>\n",
       "      <td>&lt;NA&gt;</td>\n",
       "    </tr>\n",
       "    <tr>\n",
       "      <th>1</th>\n",
       "      <td>2020-01-23</td>\n",
       "      <td>Afghanistan</td>\n",
       "      <td>0</td>\n",
       "      <td>0</td>\n",
       "      <td>0</td>\n",
       "      <td>0</td>\n",
       "      <td>0</td>\n",
       "      <td>0</td>\n",
       "    </tr>\n",
       "    <tr>\n",
       "      <th>2</th>\n",
       "      <td>2020-01-24</td>\n",
       "      <td>Afghanistan</td>\n",
       "      <td>0</td>\n",
       "      <td>0</td>\n",
       "      <td>0</td>\n",
       "      <td>0</td>\n",
       "      <td>0</td>\n",
       "      <td>0</td>\n",
       "    </tr>\n",
       "    <tr>\n",
       "      <th>3</th>\n",
       "      <td>2020-01-25</td>\n",
       "      <td>Afghanistan</td>\n",
       "      <td>0</td>\n",
       "      <td>0</td>\n",
       "      <td>0</td>\n",
       "      <td>0</td>\n",
       "      <td>0</td>\n",
       "      <td>0</td>\n",
       "    </tr>\n",
       "    <tr>\n",
       "      <th>4</th>\n",
       "      <td>2020-01-26</td>\n",
       "      <td>Afghanistan</td>\n",
       "      <td>0</td>\n",
       "      <td>0</td>\n",
       "      <td>0</td>\n",
       "      <td>0</td>\n",
       "      <td>0</td>\n",
       "      <td>0</td>\n",
       "    </tr>\n",
       "    <tr>\n",
       "      <th>...</th>\n",
       "      <td>...</td>\n",
       "      <td>...</td>\n",
       "      <td>...</td>\n",
       "      <td>...</td>\n",
       "      <td>...</td>\n",
       "      <td>...</td>\n",
       "      <td>...</td>\n",
       "      <td>...</td>\n",
       "    </tr>\n",
       "    <tr>\n",
       "      <th>9685</th>\n",
       "      <td>2020-03-14</td>\n",
       "      <td>World</td>\n",
       "      <td>156094</td>\n",
       "      <td>5819</td>\n",
       "      <td>72624</td>\n",
       "      <td>10901</td>\n",
       "      <td>415</td>\n",
       "      <td>2373</td>\n",
       "    </tr>\n",
       "    <tr>\n",
       "      <th>9686</th>\n",
       "      <td>2020-03-15</td>\n",
       "      <td>World</td>\n",
       "      <td>167446</td>\n",
       "      <td>6440</td>\n",
       "      <td>76034</td>\n",
       "      <td>11352</td>\n",
       "      <td>621</td>\n",
       "      <td>3410</td>\n",
       "    </tr>\n",
       "    <tr>\n",
       "      <th>9687</th>\n",
       "      <td>2020-03-16</td>\n",
       "      <td>World</td>\n",
       "      <td>181527</td>\n",
       "      <td>7126</td>\n",
       "      <td>78088</td>\n",
       "      <td>14081</td>\n",
       "      <td>686</td>\n",
       "      <td>2054</td>\n",
       "    </tr>\n",
       "    <tr>\n",
       "      <th>9688</th>\n",
       "      <td>2020-03-17</td>\n",
       "      <td>World</td>\n",
       "      <td>197142</td>\n",
       "      <td>7905</td>\n",
       "      <td>80840</td>\n",
       "      <td>15615</td>\n",
       "      <td>779</td>\n",
       "      <td>2752</td>\n",
       "    </tr>\n",
       "    <tr>\n",
       "      <th>9689</th>\n",
       "      <td>2020-03-18</td>\n",
       "      <td>World</td>\n",
       "      <td>214910</td>\n",
       "      <td>8733</td>\n",
       "      <td>83207</td>\n",
       "      <td>17768</td>\n",
       "      <td>828</td>\n",
       "      <td>2367</td>\n",
       "    </tr>\n",
       "  </tbody>\n",
       "</table>\n",
       "<p>9690 rows × 8 columns</p>\n",
       "</div>"
      ],
      "text/plain": [
       "            date     location  total_cases  total_deaths  total_recovered  \\\n",
       "0     2020-01-22  Afghanistan            0             0                0   \n",
       "1     2020-01-23  Afghanistan            0             0                0   \n",
       "2     2020-01-24  Afghanistan            0             0                0   \n",
       "3     2020-01-25  Afghanistan            0             0                0   \n",
       "4     2020-01-26  Afghanistan            0             0                0   \n",
       "...          ...          ...          ...           ...              ...   \n",
       "9685  2020-03-14        World       156094          5819            72624   \n",
       "9686  2020-03-15        World       167446          6440            76034   \n",
       "9687  2020-03-16        World       181527          7126            78088   \n",
       "9688  2020-03-17        World       197142          7905            80840   \n",
       "9689  2020-03-18        World       214910          8733            83207   \n",
       "\n",
       "      new_cases  new_deaths  new_recovered  \n",
       "0          <NA>        <NA>           <NA>  \n",
       "1             0           0              0  \n",
       "2             0           0              0  \n",
       "3             0           0              0  \n",
       "4             0           0              0  \n",
       "...         ...         ...            ...  \n",
       "9685      10901         415           2373  \n",
       "9686      11352         621           3410  \n",
       "9687      14081         686           2054  \n",
       "9688      15615         779           2752  \n",
       "9689      17768         828           2367  \n",
       "\n",
       "[9690 rows x 8 columns]"
      ]
     },
     "execution_count": 259,
     "metadata": {},
     "output_type": "execute_result"
    }
   ],
   "source": [
    "df_merged"
   ]
  },
  {
   "cell_type": "code",
   "execution_count": 270,
   "metadata": {},
   "outputs": [],
   "source": [
    "df_grapher = df_merged.copy()\n",
    "df_grapher['date'] = pd.to_datetime(df_grapher['date']).map(lambda date: (date - datetime(2020, 1, 21)).days)\n",
    "df_grapher = df_grapher[[\n",
    "    'location', 'date', \n",
    "    'new_cases', 'new_deaths', 'new_recovered',\n",
    "    'total_cases', 'total_deaths', 'total_recovered']] \\\n",
    "    .rename(columns={\n",
    "        'location': 'country',\n",
    "        'date': 'year',\n",
    "        'new_cases': 'Daily new confirmed cases of COVID-19 (Johns Hopkins)',\n",
    "        'new_deaths': 'Daily new confirmed deaths due to COVID-19 (Johns Hopkins)',\n",
    "        'new_recovered': 'Daily new confirmed recoveries from COVID-19 (Johns Hopkins)',\n",
    "        'total_cases': 'Total confirmed cases of COVID-19 (Johns Hopkins)', \n",
    "        'total_deaths': 'Total confirmed deaths due to COVID-19 (Johns Hopkins)',\n",
    "        'total_recovered': 'Total confirmed recoveries from COVID-19 (Johns Hopkins)',\n",
    "    })"
   ]
  },
  {
   "cell_type": "code",
   "execution_count": 271,
   "metadata": {},
   "outputs": [],
   "source": [
    "df_grapher.to_csv(os.path.join(OUTPUT_PATH, 'grapher.csv'), index=False)"
   ]
  },
  {
   "cell_type": "code",
   "execution_count": null,
   "metadata": {},
   "outputs": [],
   "source": []
  }
 ],
 "metadata": {
  "kernelspec": {
   "display_name": "Python 3",
   "language": "python",
   "name": "python3"
  },
  "language_info": {
   "codemirror_mode": {
    "name": "ipython",
    "version": 3
   },
   "file_extension": ".py",
   "mimetype": "text/x-python",
   "name": "python",
   "nbconvert_exporter": "python",
   "pygments_lexer": "ipython3",
   "version": "3.7.6"
  },
  "toc": {
   "base_numbering": 1,
   "nav_menu": {},
   "number_sections": true,
   "sideBar": true,
   "skip_h1_title": true,
   "title_cell": "Table of Contents",
   "title_sidebar": "Contents",
   "toc_cell": false,
   "toc_position": {},
   "toc_section_display": true,
   "toc_window_display": false
  }
 },
 "nbformat": 4,
 "nbformat_minor": 4
}
